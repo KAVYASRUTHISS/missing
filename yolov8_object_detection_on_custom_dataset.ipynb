{
  "cells": [
    {
      "cell_type": "code",
      "execution_count": null,
      "metadata": {
        "colab": {
          "base_uri": "https://localhost:8080/"
        },
        "id": "CjpPg4mGKc1v",
        "outputId": "f50d59c5-7688-4fd0-9a50-040b7055c7d2"
      },
      "outputs": [
        {
          "output_type": "stream",
          "name": "stdout",
          "text": [
            "/content\n"
          ]
        }
      ],
      "source": [
        "import os\n",
        "HOME = os.getcwd()\n",
        "print(HOME)"
      ]
    },
    {
      "cell_type": "markdown",
      "metadata": {
        "id": "3C3EO_2zNChu"
      },
      "source": [
        "## Install YOLOv8\n",
        "\n",
        "⚠️ YOLOv8 is still under heavy development. Breaking changes are being introduced almost weekly. We strive to make our YOLOv8 notebooks work with the latest version of the library. Last tests took place on **27.01.2023** with version **YOLOv8.0.20**.\n",
        "\n",
        "If you notice that our notebook behaves incorrectly - especially if you experience errors that prevent you from going through the tutorial - don't hesitate! Let us know and open an [issue](https://github.com/roboflow/notebooks/issues) on the Roboflow Notebooks repository.\n",
        "\n",
        "YOLOv8 can be installed in two ways - from the source and via pip. This is because it is the first iteration of YOLO to have an official package."
      ]
    },
    {
      "cell_type": "code",
      "execution_count": null,
      "metadata": {
        "colab": {
          "base_uri": "https://localhost:8080/"
        },
        "id": "tdSMcABDNKW-",
        "outputId": "42276125-5637-4602-a100-ba0573d23781"
      },
      "outputs": [
        {
          "output_type": "stream",
          "name": "stderr",
          "text": [
            "Ultralytics YOLOv8.0.20 🚀 Python-3.10.12 torch-2.3.0+cu121 CUDA:0 (Tesla T4, 15102MiB)\n",
            "Setup complete ✅ (2 CPUs, 12.7 GB RAM, 30.4/78.2 GB disk)\n"
          ]
        }
      ],
      "source": [
        "# Pip install method (recommended)\n",
        "\n",
        "!pip install ultralytics==8.0.20\n",
        "\n",
        "from IPython import display\n",
        "display.clear_output()\n",
        "\n",
        "import ultralytics\n",
        "ultralytics.checks()"
      ]
    },
    {
      "cell_type": "code",
      "execution_count": null,
      "metadata": {
        "id": "iVvaIYEEPOty"
      },
      "outputs": [],
      "source": [
        "# Git clone method (for development)\n",
        "\n",
        "# %cd {HOME}\n",
        "# !git clone github.com/ultralytics/ultralytics\n",
        "# %cd {HOME}/ultralytics\n",
        "# !pip install -qe ultralytics\n",
        "\n",
        "# from IPython import display\n",
        "# display.clear_output()\n",
        "\n",
        "# import ultralytics\n",
        "# ultralytics.checks()"
      ]
    },
    {
      "cell_type": "code",
      "execution_count": null,
      "metadata": {
        "id": "VOEYrlBoP9-E"
      },
      "outputs": [],
      "source": [
        "from ultralytics import YOLO\n",
        "\n",
        "from IPython.display import display, Image"
      ]
    },
    {
      "cell_type": "markdown",
      "metadata": {
        "id": "HnnZSm5OQfPQ"
      },
      "source": [
        "## CLI Basics"
      ]
    },
    {
      "cell_type": "markdown",
      "metadata": {
        "id": "K33S7zlkQku0"
      },
      "source": [
        "If you want to train, validate or run inference on models and don't need to make any modifications to the code, using YOLO command line interface is the easiest way to get started. Read more about CLI in [Ultralytics YOLO Docs](https://v8docs.ultralytics.com/cli/).\n",
        "\n",
        "```\n",
        "yolo task=detect    mode=train    model=yolov8n.yaml      args...\n",
        "          classify       predict        yolov8n-cls.yaml  args...\n",
        "          segment        val            yolov8n-seg.yaml  args...\n",
        "                         export         yolov8n.pt        format=onnx  args...\n",
        "```"
      ]
    },
    {
      "cell_type": "markdown",
      "metadata": {
        "id": "s5RGYA6sPgEd"
      },
      "source": [
        "## Inference with Pre-trained COCO Model"
      ]
    },
    {
      "cell_type": "markdown",
      "metadata": {
        "id": "fT1qD4toTTw0"
      },
      "source": [
        "### 💻 CLI"
      ]
    },
    {
      "cell_type": "markdown",
      "metadata": {
        "id": "ZaE1kLS8R4CV"
      },
      "source": [
        "`yolo mode=predict` runs YOLOv8 inference on a variety of sources, downloading models automatically from the latest YOLOv8 release, and saving results to `runs/predict`."
      ]
    },
    {
      "cell_type": "code",
      "execution_count": null,
      "metadata": {
        "colab": {
          "base_uri": "https://localhost:8080/"
        },
        "id": "FDbMt_M6PiXb",
        "outputId": "be08b2d8-b2f5-45aa-ba65-c79763e92c07"
      },
      "outputs": [
        {
          "output_type": "stream",
          "name": "stdout",
          "text": [
            "/content\n",
            "Downloading https://github.com/ultralytics/assets/releases/download/v0.0.0/yolov8n.pt to yolov8n.pt...\n",
            "100% 6.23M/6.23M [00:00<00:00, 199MB/s]\n",
            "\n",
            "2024-06-20 07:28:47.387293: E external/local_xla/xla/stream_executor/cuda/cuda_dnn.cc:9261] Unable to register cuDNN factory: Attempting to register factory for plugin cuDNN when one has already been registered\n",
            "2024-06-20 07:28:47.387373: E external/local_xla/xla/stream_executor/cuda/cuda_fft.cc:607] Unable to register cuFFT factory: Attempting to register factory for plugin cuFFT when one has already been registered\n",
            "2024-06-20 07:28:47.404021: E external/local_xla/xla/stream_executor/cuda/cuda_blas.cc:1515] Unable to register cuBLAS factory: Attempting to register factory for plugin cuBLAS when one has already been registered\n",
            "2024-06-20 07:28:47.412215: I tensorflow/core/platform/cpu_feature_guard.cc:182] This TensorFlow binary is optimized to use available CPU instructions in performance-critical operations.\n",
            "To enable the following instructions: AVX2 AVX512F FMA, in other operations, rebuild TensorFlow with the appropriate compiler flags.\n",
            "2024-06-20 07:28:48.588292: W tensorflow/compiler/tf2tensorrt/utils/py_utils.cc:38] TF-TRT Warning: Could not find TensorRT\n",
            "Ultralytics YOLOv8.0.20 🚀 Python-3.10.12 torch-2.3.0+cu121 CUDA:0 (Tesla T4, 15102MiB)\n",
            "YOLOv8n summary (fused): 168 layers, 3151904 parameters, 0 gradients, 8.7 GFLOPs\n",
            "Downloading https://media.roboflow.com/notebooks/examples/dog.jpeg to dog.jpeg...\n",
            "100% 104k/104k [00:00<00:00, 82.4MB/s]\n",
            "/usr/local/lib/python3.10/dist-packages/torch/nn/modules/conv.py:456: UserWarning: Plan failed with a cudnnException: CUDNN_BACKEND_EXECUTION_PLAN_DESCRIPTOR: cudnnFinalize Descriptor Failed cudnn_status: CUDNN_STATUS_NOT_SUPPORTED (Triggered internally at ../aten/src/ATen/native/cudnn/Conv_v8.cpp:919.)\n",
            "  return F.conv2d(input, weight, bias, self.stride,\n",
            "/usr/local/lib/python3.10/dist-packages/torch/nn/modules/conv.py:456: UserWarning: Plan failed with a cudnnException: CUDNN_BACKEND_EXECUTION_PLAN_DESCRIPTOR: cudnnFinalize Descriptor Failed cudnn_status: CUDNN_STATUS_NOT_SUPPORTED (Triggered internally at ../aten/src/ATen/native/cudnn/Conv_v8.cpp:919.)\n",
            "  return F.conv2d(input, weight, bias, self.stride,\n",
            "WARNING ⚠️ NMS time limit 0.550s exceeded\n",
            "image 1/1 /content/dog.jpeg: 640x384 1 person, 1 car, 1 dog, 138.7ms\n",
            "Speed: 0.8ms pre-process, 138.7ms inference, 943.3ms postprocess per image at shape (1, 3, 640, 640)\n",
            "Results saved to \u001b[1mruns/detect/predict\u001b[0m\n"
          ]
        }
      ],
      "source": [
        "%cd {HOME}\n",
        "!yolo task=detect mode=predict model=yolov8n.pt conf=0.25 source='https://media.roboflow.com/notebooks/examples/dog.jpeg' save=True"
      ]
    },
    {
      "cell_type": "code",
      "source": [
        "from google.colab import drive\n",
        "drive.mount('/content/gdrive')\n",
        "!ln -s /content/gdrive/My\\ Drive/ /mydrive\n",
        "!ls /mydrive\n",
        "\n"
      ],
      "metadata": {
        "colab": {
          "base_uri": "https://localhost:8080/"
        },
        "id": "Jze57H3ayc6b",
        "outputId": "5e76ec23-0048-4610-aca6-09fb89b8d06d"
      },
      "execution_count": null,
      "outputs": [
        {
          "output_type": "stream",
          "name": "stdout",
          "text": [
            "Drive already mounted at /content/gdrive; to attempt to forcibly remount, call drive.mount(\"/content/gdrive\", force_remount=True).\n",
            "ln: failed to create symbolic link '/mydrive/My Drive': File exists\n",
            "'Colab Notebooks'   freedomtech.zip  'My Drive'\n"
          ]
        }
      ]
    },
    {
      "cell_type": "code",
      "execution_count": null,
      "metadata": {
        "colab": {
          "base_uri": "https://localhost:8080/"
        },
        "id": "BSd93ZJzZZKt",
        "outputId": "d168d08c-11d3-455c-b203-2d8d3a2aa647"
      },
      "outputs": [
        {
          "output_type": "stream",
          "name": "stdout",
          "text": [
            "/content/datasets\n",
            "Archive:  /content/gdrive/MyDrive/freedomtech.zip\n",
            "   creating: freedomtech/\n",
            "   creating: freedomtech/images/\n",
            "   creating: freedomtech/images/training/\n",
            "  inflating: freedomtech/images/training/surfing_1.jpg  \n",
            "  inflating: freedomtech/images/training/surfing_1.txt  \n",
            "  inflating: freedomtech/images/training/surfing_10.jpg  \n",
            "  inflating: freedomtech/images/training/surfing_10.txt  \n",
            "  inflating: freedomtech/images/training/surfing_11.jpg  \n",
            "  inflating: freedomtech/images/training/surfing_11.txt  \n",
            "  inflating: freedomtech/images/training/surfing_12.jpg  \n",
            "  inflating: freedomtech/images/training/surfing_12.txt  \n",
            "  inflating: freedomtech/images/training/surfing_13.jpg  \n",
            "  inflating: freedomtech/images/training/surfing_13.txt  \n",
            "  inflating: freedomtech/images/training/surfing_14.jpg  \n",
            "  inflating: freedomtech/images/training/surfing_14.txt  \n",
            "  inflating: freedomtech/images/training/surfing_15.jpg  \n",
            "  inflating: freedomtech/images/training/surfing_15.txt  \n",
            "  inflating: freedomtech/images/training/surfing_16.jpg  \n",
            "  inflating: freedomtech/images/training/surfing_16.txt  \n",
            "  inflating: freedomtech/images/training/surfing_17.jpg  \n",
            "  inflating: freedomtech/images/training/surfing_17.txt  \n",
            "  inflating: freedomtech/images/training/surfing_18.jpg  \n",
            "  inflating: freedomtech/images/training/surfing_18.txt  \n",
            "  inflating: freedomtech/images/training/surfing_19.jpg  \n",
            "  inflating: freedomtech/images/training/surfing_19.txt  \n",
            "  inflating: freedomtech/images/training/surfing_2.jpg  \n",
            "  inflating: freedomtech/images/training/surfing_2.txt  \n",
            "  inflating: freedomtech/images/training/surfing_20.jpg  \n",
            "  inflating: freedomtech/images/training/surfing_20.txt  \n",
            "  inflating: freedomtech/images/training/surfing_21.jpg  \n",
            "  inflating: freedomtech/images/training/surfing_21.txt  \n",
            "  inflating: freedomtech/images/training/surfing_22.jpg  \n",
            "  inflating: freedomtech/images/training/surfing_22.txt  \n",
            "  inflating: freedomtech/images/training/surfing_23.jpg  \n",
            "  inflating: freedomtech/images/training/surfing_23.txt  \n",
            "  inflating: freedomtech/images/training/surfing_24.jpg  \n",
            "  inflating: freedomtech/images/training/surfing_24.txt  \n",
            "  inflating: freedomtech/images/training/surfing_25.jpg  \n",
            "  inflating: freedomtech/images/training/surfing_25.txt  \n",
            "  inflating: freedomtech/images/training/surfing_26.jpg  \n",
            "  inflating: freedomtech/images/training/surfing_26.txt  \n",
            "  inflating: freedomtech/images/training/surfing_27.jpg  \n",
            "  inflating: freedomtech/images/training/surfing_27.txt  \n",
            "  inflating: freedomtech/images/training/surfing_28.jpg  \n",
            "  inflating: freedomtech/images/training/surfing_28.txt  \n",
            "  inflating: freedomtech/images/training/surfing_29.jpg  \n",
            "  inflating: freedomtech/images/training/surfing_29.txt  \n",
            "  inflating: freedomtech/images/training/surfing_3.jpg  \n",
            "  inflating: freedomtech/images/training/surfing_3.txt  \n",
            "  inflating: freedomtech/images/training/surfing_30.jpg  \n",
            "  inflating: freedomtech/images/training/surfing_30.txt  \n",
            "  inflating: freedomtech/images/training/surfing_31.jpg  \n",
            "  inflating: freedomtech/images/training/surfing_31.txt  \n",
            "  inflating: freedomtech/images/training/surfing_32.jpg  \n",
            "  inflating: freedomtech/images/training/surfing_32.txt  \n",
            "  inflating: freedomtech/images/training/surfing_33.jpg  \n",
            "  inflating: freedomtech/images/training/surfing_33.txt  \n",
            "  inflating: freedomtech/images/training/surfing_34.jpg  \n",
            "  inflating: freedomtech/images/training/surfing_34.txt  \n",
            "  inflating: freedomtech/images/training/surfing_35.jpg  \n",
            "  inflating: freedomtech/images/training/surfing_35.txt  \n",
            "  inflating: freedomtech/images/training/surfing_36.jpg  \n",
            "  inflating: freedomtech/images/training/surfing_36.txt  \n",
            "  inflating: freedomtech/images/training/surfing_37.jpg  \n",
            "  inflating: freedomtech/images/training/surfing_37.txt  \n",
            "  inflating: freedomtech/images/training/surfing_38.jpg  \n",
            "  inflating: freedomtech/images/training/surfing_38.txt  \n",
            "  inflating: freedomtech/images/training/surfing_39.jpg  \n",
            "  inflating: freedomtech/images/training/surfing_39.txt  \n",
            "  inflating: freedomtech/images/training/surfing_4.jpg  \n",
            "  inflating: freedomtech/images/training/surfing_4.txt  \n",
            "  inflating: freedomtech/images/training/surfing_40.jpg  \n",
            "  inflating: freedomtech/images/training/surfing_40.txt  \n",
            "  inflating: freedomtech/images/training/surfing_41.jpg  \n",
            "  inflating: freedomtech/images/training/surfing_41.txt  \n",
            "  inflating: freedomtech/images/training/surfing_42.jpg  \n",
            "  inflating: freedomtech/images/training/surfing_42.txt  \n",
            "  inflating: freedomtech/images/training/surfing_43.jpg  \n",
            "  inflating: freedomtech/images/training/surfing_43.txt  \n",
            "  inflating: freedomtech/images/training/surfing_44.jpg  \n",
            "  inflating: freedomtech/images/training/surfing_44.txt  \n",
            "  inflating: freedomtech/images/training/surfing_5.jpg  \n",
            "  inflating: freedomtech/images/training/surfing_5.txt  \n",
            "  inflating: freedomtech/images/training/surfing_6.jpg  \n",
            "  inflating: freedomtech/images/training/surfing_6.txt  \n",
            "  inflating: freedomtech/images/training/surfing_7.jpg  \n",
            "  inflating: freedomtech/images/training/surfing_7.txt  \n",
            "  inflating: freedomtech/images/training/surfing_8.jpg  \n",
            "  inflating: freedomtech/images/training/surfing_8.txt  \n",
            "  inflating: freedomtech/images/training/surfing_9.jpg  \n",
            "  inflating: freedomtech/images/training/surfing_9.txt  \n",
            "   creating: freedomtech/images/validation/\n",
            "  inflating: freedomtech/images/validation/surfing_1.jpg  \n",
            "  inflating: freedomtech/images/validation/surfing_1.txt  \n",
            "  inflating: freedomtech/images/validation/surfing_10.jpg  \n",
            "  inflating: freedomtech/images/validation/surfing_10.txt  \n",
            "  inflating: freedomtech/images/validation/surfing_11.jpg  \n",
            "  inflating: freedomtech/images/validation/surfing_11.txt  \n",
            "  inflating: freedomtech/images/validation/surfing_12.jpg  \n",
            "  inflating: freedomtech/images/validation/surfing_12.txt  \n",
            "  inflating: freedomtech/images/validation/surfing_13.jpg  \n",
            "  inflating: freedomtech/images/validation/surfing_13.txt  \n",
            "  inflating: freedomtech/images/validation/surfing_14.jpg  \n",
            "  inflating: freedomtech/images/validation/surfing_14.txt  \n",
            "  inflating: freedomtech/images/validation/surfing_15.jpg  \n",
            "  inflating: freedomtech/images/validation/surfing_15.txt  \n",
            "  inflating: freedomtech/images/validation/surfing_16.jpg  \n",
            "  inflating: freedomtech/images/validation/surfing_16.txt  \n",
            "  inflating: freedomtech/images/validation/surfing_17.jpg  \n",
            "  inflating: freedomtech/images/validation/surfing_17.txt  \n",
            "  inflating: freedomtech/images/validation/surfing_18.jpg  \n",
            "  inflating: freedomtech/images/validation/surfing_18.txt  \n",
            "  inflating: freedomtech/images/validation/surfing_19.jpg  \n",
            "  inflating: freedomtech/images/validation/surfing_19.txt  \n",
            "  inflating: freedomtech/images/validation/surfing_2.jpg  \n",
            "  inflating: freedomtech/images/validation/surfing_2.txt  \n",
            "  inflating: freedomtech/images/validation/surfing_20.jpg  \n",
            "  inflating: freedomtech/images/validation/surfing_20.txt  \n",
            "  inflating: freedomtech/images/validation/surfing_21.jpg  \n",
            "  inflating: freedomtech/images/validation/surfing_21.txt  \n",
            "  inflating: freedomtech/images/validation/surfing_22.jpg  \n",
            "  inflating: freedomtech/images/validation/surfing_22.txt  \n",
            "  inflating: freedomtech/images/validation/surfing_23.jpg  \n",
            "  inflating: freedomtech/images/validation/surfing_23.txt  \n",
            "  inflating: freedomtech/images/validation/surfing_24.jpg  \n",
            "  inflating: freedomtech/images/validation/surfing_24.txt  \n",
            "  inflating: freedomtech/images/validation/surfing_25.jpg  \n",
            "  inflating: freedomtech/images/validation/surfing_25.txt  \n",
            "  inflating: freedomtech/images/validation/surfing_26.jpg  \n",
            "  inflating: freedomtech/images/validation/surfing_26.txt  \n",
            "  inflating: freedomtech/images/validation/surfing_27.jpg  \n",
            "  inflating: freedomtech/images/validation/surfing_27.txt  \n",
            "  inflating: freedomtech/images/validation/surfing_28.jpg  \n",
            "  inflating: freedomtech/images/validation/surfing_28.txt  \n",
            "  inflating: freedomtech/images/validation/surfing_29.jpg  \n",
            "  inflating: freedomtech/images/validation/surfing_29.txt  \n",
            "  inflating: freedomtech/images/validation/surfing_3.jpg  \n",
            "  inflating: freedomtech/images/validation/surfing_3.txt  \n",
            "  inflating: freedomtech/images/validation/surfing_30.jpg  \n",
            "  inflating: freedomtech/images/validation/surfing_30.txt  \n",
            "  inflating: freedomtech/images/validation/surfing_31.jpg  \n",
            "  inflating: freedomtech/images/validation/surfing_31.txt  \n",
            "  inflating: freedomtech/images/validation/surfing_32.jpg  \n",
            "  inflating: freedomtech/images/validation/surfing_32.txt  \n",
            "  inflating: freedomtech/images/validation/surfing_33.jpg  \n",
            "  inflating: freedomtech/images/validation/surfing_33.txt  \n",
            "  inflating: freedomtech/images/validation/surfing_34.jpg  \n",
            "  inflating: freedomtech/images/validation/surfing_34.txt  \n",
            "  inflating: freedomtech/images/validation/surfing_35.jpg  \n",
            "  inflating: freedomtech/images/validation/surfing_35.txt  \n",
            "  inflating: freedomtech/images/validation/surfing_36.jpg  \n",
            "  inflating: freedomtech/images/validation/surfing_36.txt  \n",
            "  inflating: freedomtech/images/validation/surfing_37.jpg  \n",
            "  inflating: freedomtech/images/validation/surfing_37.txt  \n",
            "  inflating: freedomtech/images/validation/surfing_38.jpg  \n",
            "  inflating: freedomtech/images/validation/surfing_38.txt  \n",
            "  inflating: freedomtech/images/validation/surfing_39.jpg  \n",
            "  inflating: freedomtech/images/validation/surfing_39.txt  \n",
            "  inflating: freedomtech/images/validation/surfing_4.jpg  \n",
            "  inflating: freedomtech/images/validation/surfing_4.txt  \n",
            "  inflating: freedomtech/images/validation/surfing_40.jpg  \n",
            "  inflating: freedomtech/images/validation/surfing_40.txt  \n",
            "  inflating: freedomtech/images/validation/surfing_41.jpg  \n",
            "  inflating: freedomtech/images/validation/surfing_41.txt  \n",
            "  inflating: freedomtech/images/validation/surfing_42.jpg  \n",
            "  inflating: freedomtech/images/validation/surfing_42.txt  \n",
            "  inflating: freedomtech/images/validation/surfing_43.jpg  \n",
            "  inflating: freedomtech/images/validation/surfing_43.txt  \n",
            "  inflating: freedomtech/images/validation/surfing_44.jpg  \n",
            "  inflating: freedomtech/images/validation/surfing_44.txt  \n",
            "  inflating: freedomtech/images/validation/surfing_5.jpg  \n",
            "  inflating: freedomtech/images/validation/surfing_5.txt  \n",
            "  inflating: freedomtech/images/validation/surfing_6.jpg  \n",
            "  inflating: freedomtech/images/validation/surfing_6.txt  \n",
            "  inflating: freedomtech/images/validation/surfing_7.jpg  \n",
            "  inflating: freedomtech/images/validation/surfing_7.txt  \n",
            "  inflating: freedomtech/images/validation/surfing_8.jpg  \n",
            "  inflating: freedomtech/images/validation/surfing_8.txt  \n",
            "  inflating: freedomtech/images/validation/surfing_9.jpg  \n",
            "  inflating: freedomtech/images/validation/surfing_9.txt  \n",
            "   creating: freedomtech/labels/\n",
            "   creating: freedomtech/labels/training/\n",
            "  inflating: freedomtech/labels/training/surfing_1.jpg  \n",
            "  inflating: freedomtech/labels/training/surfing_1.txt  \n",
            "  inflating: freedomtech/labels/training/surfing_10.jpg  \n",
            "  inflating: freedomtech/labels/training/surfing_10.txt  \n",
            "  inflating: freedomtech/labels/training/surfing_11.jpg  \n",
            "  inflating: freedomtech/labels/training/surfing_11.txt  \n",
            "  inflating: freedomtech/labels/training/surfing_12.jpg  \n",
            "  inflating: freedomtech/labels/training/surfing_12.txt  \n",
            "  inflating: freedomtech/labels/training/surfing_13.jpg  \n",
            "  inflating: freedomtech/labels/training/surfing_13.txt  \n",
            "  inflating: freedomtech/labels/training/surfing_14.jpg  \n",
            "  inflating: freedomtech/labels/training/surfing_14.txt  \n",
            "  inflating: freedomtech/labels/training/surfing_15.jpg  \n",
            "  inflating: freedomtech/labels/training/surfing_15.txt  \n",
            "  inflating: freedomtech/labels/training/surfing_16.jpg  \n",
            "  inflating: freedomtech/labels/training/surfing_16.txt  \n",
            "  inflating: freedomtech/labels/training/surfing_17.jpg  \n",
            "  inflating: freedomtech/labels/training/surfing_17.txt  \n",
            "  inflating: freedomtech/labels/training/surfing_18.jpg  \n",
            "  inflating: freedomtech/labels/training/surfing_18.txt  \n",
            "  inflating: freedomtech/labels/training/surfing_19.jpg  \n",
            "  inflating: freedomtech/labels/training/surfing_19.txt  \n",
            "  inflating: freedomtech/labels/training/surfing_2.jpg  \n",
            "  inflating: freedomtech/labels/training/surfing_2.txt  \n",
            "  inflating: freedomtech/labels/training/surfing_20.jpg  \n",
            "  inflating: freedomtech/labels/training/surfing_20.txt  \n",
            "  inflating: freedomtech/labels/training/surfing_21.jpg  \n",
            "  inflating: freedomtech/labels/training/surfing_21.txt  \n",
            "  inflating: freedomtech/labels/training/surfing_22.jpg  \n",
            "  inflating: freedomtech/labels/training/surfing_22.txt  \n",
            "  inflating: freedomtech/labels/training/surfing_23.jpg  \n",
            "  inflating: freedomtech/labels/training/surfing_23.txt  \n",
            "  inflating: freedomtech/labels/training/surfing_24.jpg  \n",
            "  inflating: freedomtech/labels/training/surfing_24.txt  \n",
            "  inflating: freedomtech/labels/training/surfing_25.jpg  \n",
            "  inflating: freedomtech/labels/training/surfing_25.txt  \n",
            "  inflating: freedomtech/labels/training/surfing_26.jpg  \n",
            "  inflating: freedomtech/labels/training/surfing_26.txt  \n",
            "  inflating: freedomtech/labels/training/surfing_27.jpg  \n",
            "  inflating: freedomtech/labels/training/surfing_27.txt  \n",
            "  inflating: freedomtech/labels/training/surfing_28.jpg  \n",
            "  inflating: freedomtech/labels/training/surfing_28.txt  \n",
            "  inflating: freedomtech/labels/training/surfing_29.jpg  \n",
            "  inflating: freedomtech/labels/training/surfing_29.txt  \n",
            "  inflating: freedomtech/labels/training/surfing_3.jpg  \n",
            "  inflating: freedomtech/labels/training/surfing_3.txt  \n",
            "  inflating: freedomtech/labels/training/surfing_30.jpg  \n",
            "  inflating: freedomtech/labels/training/surfing_30.txt  \n",
            "  inflating: freedomtech/labels/training/surfing_31.jpg  \n",
            "  inflating: freedomtech/labels/training/surfing_31.txt  \n",
            "  inflating: freedomtech/labels/training/surfing_32.jpg  \n",
            "  inflating: freedomtech/labels/training/surfing_32.txt  \n",
            "  inflating: freedomtech/labels/training/surfing_33.jpg  \n",
            "  inflating: freedomtech/labels/training/surfing_33.txt  \n",
            "  inflating: freedomtech/labels/training/surfing_34.jpg  \n",
            "  inflating: freedomtech/labels/training/surfing_34.txt  \n",
            "  inflating: freedomtech/labels/training/surfing_35.jpg  \n",
            "  inflating: freedomtech/labels/training/surfing_35.txt  \n",
            "  inflating: freedomtech/labels/training/surfing_36.jpg  \n",
            "  inflating: freedomtech/labels/training/surfing_36.txt  \n",
            "  inflating: freedomtech/labels/training/surfing_37.jpg  \n",
            "  inflating: freedomtech/labels/training/surfing_37.txt  \n",
            "  inflating: freedomtech/labels/training/surfing_38.jpg  \n",
            "  inflating: freedomtech/labels/training/surfing_38.txt  \n",
            "  inflating: freedomtech/labels/training/surfing_39.jpg  \n",
            "  inflating: freedomtech/labels/training/surfing_39.txt  \n",
            "  inflating: freedomtech/labels/training/surfing_4.jpg  \n",
            "  inflating: freedomtech/labels/training/surfing_4.txt  \n",
            "  inflating: freedomtech/labels/training/surfing_40.jpg  \n",
            "  inflating: freedomtech/labels/training/surfing_40.txt  \n",
            "  inflating: freedomtech/labels/training/surfing_41.jpg  \n",
            "  inflating: freedomtech/labels/training/surfing_41.txt  \n",
            "  inflating: freedomtech/labels/training/surfing_42.jpg  \n",
            "  inflating: freedomtech/labels/training/surfing_42.txt  \n",
            "  inflating: freedomtech/labels/training/surfing_43.jpg  \n",
            "  inflating: freedomtech/labels/training/surfing_43.txt  \n",
            "  inflating: freedomtech/labels/training/surfing_44.jpg  \n",
            "  inflating: freedomtech/labels/training/surfing_44.txt  \n",
            "  inflating: freedomtech/labels/training/surfing_5.jpg  \n",
            "  inflating: freedomtech/labels/training/surfing_5.txt  \n",
            "  inflating: freedomtech/labels/training/surfing_6.jpg  \n",
            "  inflating: freedomtech/labels/training/surfing_6.txt  \n",
            "  inflating: freedomtech/labels/training/surfing_7.jpg  \n",
            "  inflating: freedomtech/labels/training/surfing_7.txt  \n",
            "  inflating: freedomtech/labels/training/surfing_8.jpg  \n",
            "  inflating: freedomtech/labels/training/surfing_8.txt  \n",
            "  inflating: freedomtech/labels/training/surfing_9.jpg  \n",
            "  inflating: freedomtech/labels/training/surfing_9.txt  \n",
            "   creating: freedomtech/labels/validation/\n",
            "  inflating: freedomtech/labels/validation/surfing_1.jpg  \n",
            "  inflating: freedomtech/labels/validation/surfing_1.txt  \n",
            "  inflating: freedomtech/labels/validation/surfing_10.jpg  \n",
            "  inflating: freedomtech/labels/validation/surfing_10.txt  \n",
            "  inflating: freedomtech/labels/validation/surfing_11.jpg  \n",
            "  inflating: freedomtech/labels/validation/surfing_11.txt  \n",
            "  inflating: freedomtech/labels/validation/surfing_12.jpg  \n",
            "  inflating: freedomtech/labels/validation/surfing_12.txt  \n",
            "  inflating: freedomtech/labels/validation/surfing_13.jpg  \n",
            "  inflating: freedomtech/labels/validation/surfing_13.txt  \n",
            "  inflating: freedomtech/labels/validation/surfing_14.jpg  \n",
            "  inflating: freedomtech/labels/validation/surfing_14.txt  \n",
            "  inflating: freedomtech/labels/validation/surfing_15.jpg  \n",
            "  inflating: freedomtech/labels/validation/surfing_15.txt  \n",
            "  inflating: freedomtech/labels/validation/surfing_16.jpg  \n",
            "  inflating: freedomtech/labels/validation/surfing_16.txt  \n",
            "  inflating: freedomtech/labels/validation/surfing_17.jpg  \n",
            "  inflating: freedomtech/labels/validation/surfing_17.txt  \n",
            "  inflating: freedomtech/labels/validation/surfing_18.jpg  \n",
            "  inflating: freedomtech/labels/validation/surfing_18.txt  \n",
            "  inflating: freedomtech/labels/validation/surfing_19.jpg  \n",
            "  inflating: freedomtech/labels/validation/surfing_19.txt  \n",
            "  inflating: freedomtech/labels/validation/surfing_2.jpg  \n",
            "  inflating: freedomtech/labels/validation/surfing_2.txt  \n",
            "  inflating: freedomtech/labels/validation/surfing_20.jpg  \n",
            "  inflating: freedomtech/labels/validation/surfing_20.txt  \n",
            "  inflating: freedomtech/labels/validation/surfing_21.jpg  \n",
            "  inflating: freedomtech/labels/validation/surfing_21.txt  \n",
            "  inflating: freedomtech/labels/validation/surfing_22.jpg  \n",
            "  inflating: freedomtech/labels/validation/surfing_22.txt  \n",
            "  inflating: freedomtech/labels/validation/surfing_23.jpg  \n",
            "  inflating: freedomtech/labels/validation/surfing_23.txt  \n",
            "  inflating: freedomtech/labels/validation/surfing_24.jpg  \n",
            "  inflating: freedomtech/labels/validation/surfing_24.txt  \n",
            "  inflating: freedomtech/labels/validation/surfing_25.jpg  \n",
            "  inflating: freedomtech/labels/validation/surfing_25.txt  \n",
            "  inflating: freedomtech/labels/validation/surfing_26.jpg  \n",
            "  inflating: freedomtech/labels/validation/surfing_26.txt  \n",
            "  inflating: freedomtech/labels/validation/surfing_27.jpg  \n",
            "  inflating: freedomtech/labels/validation/surfing_27.txt  \n",
            "  inflating: freedomtech/labels/validation/surfing_28.jpg  \n",
            "  inflating: freedomtech/labels/validation/surfing_28.txt  \n",
            "  inflating: freedomtech/labels/validation/surfing_29.jpg  \n",
            "  inflating: freedomtech/labels/validation/surfing_29.txt  \n",
            "  inflating: freedomtech/labels/validation/surfing_3.jpg  \n",
            "  inflating: freedomtech/labels/validation/surfing_3.txt  \n",
            "  inflating: freedomtech/labels/validation/surfing_30.jpg  \n",
            "  inflating: freedomtech/labels/validation/surfing_30.txt  \n",
            "  inflating: freedomtech/labels/validation/surfing_31.jpg  \n",
            "  inflating: freedomtech/labels/validation/surfing_31.txt  \n",
            "  inflating: freedomtech/labels/validation/surfing_32.jpg  \n",
            "  inflating: freedomtech/labels/validation/surfing_32.txt  \n",
            "  inflating: freedomtech/labels/validation/surfing_33.jpg  \n",
            "  inflating: freedomtech/labels/validation/surfing_33.txt  \n",
            "  inflating: freedomtech/labels/validation/surfing_34.jpg  \n",
            "  inflating: freedomtech/labels/validation/surfing_34.txt  \n",
            "  inflating: freedomtech/labels/validation/surfing_35.jpg  \n",
            "  inflating: freedomtech/labels/validation/surfing_35.txt  \n",
            "  inflating: freedomtech/labels/validation/surfing_36.jpg  \n",
            "  inflating: freedomtech/labels/validation/surfing_36.txt  \n",
            "  inflating: freedomtech/labels/validation/surfing_37.jpg  \n",
            "  inflating: freedomtech/labels/validation/surfing_37.txt  \n",
            "  inflating: freedomtech/labels/validation/surfing_38.jpg  \n",
            "  inflating: freedomtech/labels/validation/surfing_38.txt  \n",
            "  inflating: freedomtech/labels/validation/surfing_39.jpg  \n",
            "  inflating: freedomtech/labels/validation/surfing_39.txt  \n",
            "  inflating: freedomtech/labels/validation/surfing_4.jpg  \n",
            "  inflating: freedomtech/labels/validation/surfing_4.txt  \n",
            "  inflating: freedomtech/labels/validation/surfing_40.jpg  \n",
            "  inflating: freedomtech/labels/validation/surfing_40.txt  \n",
            "  inflating: freedomtech/labels/validation/surfing_41.jpg  \n",
            "  inflating: freedomtech/labels/validation/surfing_41.txt  \n",
            "  inflating: freedomtech/labels/validation/surfing_42.jpg  \n",
            "  inflating: freedomtech/labels/validation/surfing_42.txt  \n",
            "  inflating: freedomtech/labels/validation/surfing_43.jpg  \n",
            "  inflating: freedomtech/labels/validation/surfing_43.txt  \n",
            "  inflating: freedomtech/labels/validation/surfing_44.jpg  \n",
            "  inflating: freedomtech/labels/validation/surfing_44.txt  \n",
            "  inflating: freedomtech/labels/validation/surfing_5.jpg  \n",
            "  inflating: freedomtech/labels/validation/surfing_5.txt  \n",
            "  inflating: freedomtech/labels/validation/surfing_6.jpg  \n",
            "  inflating: freedomtech/labels/validation/surfing_6.txt  \n",
            "  inflating: freedomtech/labels/validation/surfing_7.jpg  \n",
            "  inflating: freedomtech/labels/validation/surfing_7.txt  \n",
            "  inflating: freedomtech/labels/validation/surfing_8.jpg  \n",
            "  inflating: freedomtech/labels/validation/surfing_8.txt  \n",
            "  inflating: freedomtech/labels/validation/surfing_9.jpg  \n",
            "  inflating: freedomtech/labels/validation/surfing_9.txt  \n"
          ]
        }
      ],
      "source": [
        "!mkdir {HOME}/datasets\n",
        "%cd {HOME}/datasets\n",
        "\n",
        "!unzip /content/gdrive/MyDrive/freedomtech.zip"
      ]
    },
    {
      "cell_type": "code",
      "source": [
        "!pip install ultralytics==8.0.196\n",
        "\n",
        "from roboflow import Roboflow\n",
        "rf = Roboflow(api_key=\"BUxTPHjjg93FG49In47f\")\n",
        "project = rf.workspace(\"kavyasruthi-loakx\").project(\"missing-bolt-detection\")\n",
        "version = project.version(1)\n",
        "dataset = version.download(\"yolov8\")\n"
      ],
      "metadata": {
        "colab": {
          "base_uri": "https://localhost:8080/",
          "height": 1000
        },
        "id": "D4ltI4t-kJZl",
        "outputId": "4c6a139d-6936-4510-e2f9-00af872b5036"
      },
      "execution_count": null,
      "outputs": [
        {
          "output_type": "stream",
          "name": "stdout",
          "text": [
            "Collecting ultralytics==8.0.196\n",
            "  Downloading ultralytics-8.0.196-py3-none-any.whl (631 kB)\n",
            "\u001b[?25l     \u001b[90m━━━━━━━━━━━━━━━━━━━━━━━━━━━━━━━━━━━━━━━━\u001b[0m \u001b[32m0.0/631.1 kB\u001b[0m \u001b[31m?\u001b[0m eta \u001b[36m-:--:--\u001b[0m\r\u001b[2K     \u001b[91m━━━━━━━━━━━━━━━━━\u001b[0m\u001b[91m╸\u001b[0m\u001b[90m━━━━━━━━━━━━━━━━━━━━━━\u001b[0m \u001b[32m276.5/631.1 kB\u001b[0m \u001b[31m8.0 MB/s\u001b[0m eta \u001b[36m0:00:01\u001b[0m\r\u001b[2K     \u001b[91m━━━━━━━━━━━━━━━━━━━━━━━━━━━━━━━━━━━━━━━\u001b[0m\u001b[91m╸\u001b[0m \u001b[32m624.6/631.1 kB\u001b[0m \u001b[31m10.3 MB/s\u001b[0m eta \u001b[36m0:00:01\u001b[0m\r\u001b[2K     \u001b[90m━━━━━━━━━━━━━━━━━━━━━━━━━━━━━━━━━━━━━━━━\u001b[0m \u001b[32m631.1/631.1 kB\u001b[0m \u001b[31m8.9 MB/s\u001b[0m eta \u001b[36m0:00:00\u001b[0m\n",
            "\u001b[?25hRequirement already satisfied: matplotlib>=3.3.0 in /usr/local/lib/python3.10/dist-packages (from ultralytics==8.0.196) (3.7.1)\n",
            "Requirement already satisfied: numpy>=1.22.2 in /usr/local/lib/python3.10/dist-packages (from ultralytics==8.0.196) (1.25.2)\n",
            "Requirement already satisfied: opencv-python>=4.6.0 in /usr/local/lib/python3.10/dist-packages (from ultralytics==8.0.196) (4.8.0.76)\n",
            "Requirement already satisfied: pillow>=7.1.2 in /usr/local/lib/python3.10/dist-packages (from ultralytics==8.0.196) (9.4.0)\n",
            "Requirement already satisfied: pyyaml>=5.3.1 in /usr/local/lib/python3.10/dist-packages (from ultralytics==8.0.196) (6.0.1)\n",
            "Requirement already satisfied: requests>=2.23.0 in /usr/local/lib/python3.10/dist-packages (from ultralytics==8.0.196) (2.31.0)\n",
            "Requirement already satisfied: scipy>=1.4.1 in /usr/local/lib/python3.10/dist-packages (from ultralytics==8.0.196) (1.11.4)\n",
            "Requirement already satisfied: torch>=1.8.0 in /usr/local/lib/python3.10/dist-packages (from ultralytics==8.0.196) (2.3.0+cu121)\n",
            "Requirement already satisfied: torchvision>=0.9.0 in /usr/local/lib/python3.10/dist-packages (from ultralytics==8.0.196) (0.18.0+cu121)\n",
            "Requirement already satisfied: tqdm>=4.64.0 in /usr/local/lib/python3.10/dist-packages (from ultralytics==8.0.196) (4.66.4)\n",
            "Requirement already satisfied: pandas>=1.1.4 in /usr/local/lib/python3.10/dist-packages (from ultralytics==8.0.196) (2.0.3)\n",
            "Requirement already satisfied: seaborn>=0.11.0 in /usr/local/lib/python3.10/dist-packages (from ultralytics==8.0.196) (0.13.1)\n",
            "Requirement already satisfied: psutil in /usr/local/lib/python3.10/dist-packages (from ultralytics==8.0.196) (5.9.5)\n",
            "Requirement already satisfied: py-cpuinfo in /usr/local/lib/python3.10/dist-packages (from ultralytics==8.0.196) (9.0.0)\n",
            "Requirement already satisfied: thop>=0.1.1 in /usr/local/lib/python3.10/dist-packages (from ultralytics==8.0.196) (0.1.1.post2209072238)\n",
            "Requirement already satisfied: contourpy>=1.0.1 in /usr/local/lib/python3.10/dist-packages (from matplotlib>=3.3.0->ultralytics==8.0.196) (1.2.1)\n",
            "Requirement already satisfied: cycler>=0.10 in /usr/local/lib/python3.10/dist-packages (from matplotlib>=3.3.0->ultralytics==8.0.196) (0.10.0)\n",
            "Requirement already satisfied: fonttools>=4.22.0 in /usr/local/lib/python3.10/dist-packages (from matplotlib>=3.3.0->ultralytics==8.0.196) (4.53.0)\n",
            "Requirement already satisfied: kiwisolver>=1.0.1 in /usr/local/lib/python3.10/dist-packages (from matplotlib>=3.3.0->ultralytics==8.0.196) (1.4.5)\n",
            "Requirement already satisfied: packaging>=20.0 in /usr/local/lib/python3.10/dist-packages (from matplotlib>=3.3.0->ultralytics==8.0.196) (24.1)\n",
            "Requirement already satisfied: pyparsing>=2.3.1 in /usr/local/lib/python3.10/dist-packages (from matplotlib>=3.3.0->ultralytics==8.0.196) (3.1.2)\n",
            "Requirement already satisfied: python-dateutil>=2.7 in /usr/local/lib/python3.10/dist-packages (from matplotlib>=3.3.0->ultralytics==8.0.196) (2.8.2)\n",
            "Requirement already satisfied: pytz>=2020.1 in /usr/local/lib/python3.10/dist-packages (from pandas>=1.1.4->ultralytics==8.0.196) (2023.4)\n",
            "Requirement already satisfied: tzdata>=2022.1 in /usr/local/lib/python3.10/dist-packages (from pandas>=1.1.4->ultralytics==8.0.196) (2024.1)\n",
            "Requirement already satisfied: charset-normalizer<4,>=2 in /usr/local/lib/python3.10/dist-packages (from requests>=2.23.0->ultralytics==8.0.196) (3.3.2)\n",
            "Requirement already satisfied: idna<4,>=2.5 in /usr/local/lib/python3.10/dist-packages (from requests>=2.23.0->ultralytics==8.0.196) (2.10)\n",
            "Requirement already satisfied: urllib3<3,>=1.21.1 in /usr/local/lib/python3.10/dist-packages (from requests>=2.23.0->ultralytics==8.0.196) (2.0.7)\n",
            "Requirement already satisfied: certifi>=2017.4.17 in /usr/local/lib/python3.10/dist-packages (from requests>=2.23.0->ultralytics==8.0.196) (2023.7.22)\n",
            "Requirement already satisfied: filelock in /usr/local/lib/python3.10/dist-packages (from torch>=1.8.0->ultralytics==8.0.196) (3.14.0)\n",
            "Requirement already satisfied: typing-extensions>=4.8.0 in /usr/local/lib/python3.10/dist-packages (from torch>=1.8.0->ultralytics==8.0.196) (4.12.2)\n",
            "Requirement already satisfied: sympy in /usr/local/lib/python3.10/dist-packages (from torch>=1.8.0->ultralytics==8.0.196) (1.12.1)\n",
            "Requirement already satisfied: networkx in /usr/local/lib/python3.10/dist-packages (from torch>=1.8.0->ultralytics==8.0.196) (3.3)\n",
            "Requirement already satisfied: jinja2 in /usr/local/lib/python3.10/dist-packages (from torch>=1.8.0->ultralytics==8.0.196) (3.1.4)\n",
            "Requirement already satisfied: fsspec in /usr/local/lib/python3.10/dist-packages (from torch>=1.8.0->ultralytics==8.0.196) (2023.6.0)\n",
            "Requirement already satisfied: nvidia-cuda-nvrtc-cu12==12.1.105 in /usr/local/lib/python3.10/dist-packages (from torch>=1.8.0->ultralytics==8.0.196) (12.1.105)\n",
            "Requirement already satisfied: nvidia-cuda-runtime-cu12==12.1.105 in /usr/local/lib/python3.10/dist-packages (from torch>=1.8.0->ultralytics==8.0.196) (12.1.105)\n",
            "Requirement already satisfied: nvidia-cuda-cupti-cu12==12.1.105 in /usr/local/lib/python3.10/dist-packages (from torch>=1.8.0->ultralytics==8.0.196) (12.1.105)\n",
            "Requirement already satisfied: nvidia-cudnn-cu12==8.9.2.26 in /usr/local/lib/python3.10/dist-packages (from torch>=1.8.0->ultralytics==8.0.196) (8.9.2.26)\n",
            "Requirement already satisfied: nvidia-cublas-cu12==12.1.3.1 in /usr/local/lib/python3.10/dist-packages (from torch>=1.8.0->ultralytics==8.0.196) (12.1.3.1)\n",
            "Requirement already satisfied: nvidia-cufft-cu12==11.0.2.54 in /usr/local/lib/python3.10/dist-packages (from torch>=1.8.0->ultralytics==8.0.196) (11.0.2.54)\n",
            "Requirement already satisfied: nvidia-curand-cu12==10.3.2.106 in /usr/local/lib/python3.10/dist-packages (from torch>=1.8.0->ultralytics==8.0.196) (10.3.2.106)\n",
            "Requirement already satisfied: nvidia-cusolver-cu12==11.4.5.107 in /usr/local/lib/python3.10/dist-packages (from torch>=1.8.0->ultralytics==8.0.196) (11.4.5.107)\n",
            "Requirement already satisfied: nvidia-cusparse-cu12==12.1.0.106 in /usr/local/lib/python3.10/dist-packages (from torch>=1.8.0->ultralytics==8.0.196) (12.1.0.106)\n",
            "Requirement already satisfied: nvidia-nccl-cu12==2.20.5 in /usr/local/lib/python3.10/dist-packages (from torch>=1.8.0->ultralytics==8.0.196) (2.20.5)\n",
            "Requirement already satisfied: nvidia-nvtx-cu12==12.1.105 in /usr/local/lib/python3.10/dist-packages (from torch>=1.8.0->ultralytics==8.0.196) (12.1.105)\n",
            "Requirement already satisfied: triton==2.3.0 in /usr/local/lib/python3.10/dist-packages (from torch>=1.8.0->ultralytics==8.0.196) (2.3.0)\n",
            "Requirement already satisfied: nvidia-nvjitlink-cu12 in /usr/local/lib/python3.10/dist-packages (from nvidia-cusolver-cu12==11.4.5.107->torch>=1.8.0->ultralytics==8.0.196) (12.5.40)\n",
            "Requirement already satisfied: six in /usr/local/lib/python3.10/dist-packages (from cycler>=0.10->matplotlib>=3.3.0->ultralytics==8.0.196) (1.16.0)\n",
            "Requirement already satisfied: MarkupSafe>=2.0 in /usr/local/lib/python3.10/dist-packages (from jinja2->torch>=1.8.0->ultralytics==8.0.196) (2.1.5)\n",
            "Requirement already satisfied: mpmath<1.4.0,>=1.1.0 in /usr/local/lib/python3.10/dist-packages (from sympy->torch>=1.8.0->ultralytics==8.0.196) (1.3.0)\n",
            "Installing collected packages: ultralytics\n",
            "  Attempting uninstall: ultralytics\n",
            "    Found existing installation: ultralytics 8.0.20\n",
            "    Uninstalling ultralytics-8.0.20:\n",
            "      Successfully uninstalled ultralytics-8.0.20\n",
            "Successfully installed ultralytics-8.0.196\n"
          ]
        },
        {
          "output_type": "display_data",
          "data": {
            "application/vnd.colab-display-data+json": {
              "pip_warning": {
                "packages": [
                  "ultralytics"
                ]
              },
              "id": "bb7a6f6348d34ee1a1ccb2761c6e17ff"
            }
          },
          "metadata": {}
        },
        {
          "output_type": "stream",
          "name": "stdout",
          "text": [
            "loading Roboflow workspace...\n",
            "loading Roboflow project...\n",
            "Dependency ultralytics==8.0.196 is required but found version=8.0.20, to fix: `pip install ultralytics==8.0.196`\n"
          ]
        },
        {
          "output_type": "stream",
          "name": "stderr",
          "text": [
            "Downloading Dataset Version Zip in missing-bolt-detection-1 to yolov8:: 100%|██████████| 2315/2315 [00:00<00:00, 2943.19it/s]"
          ]
        },
        {
          "output_type": "stream",
          "name": "stdout",
          "text": [
            "\n"
          ]
        },
        {
          "output_type": "stream",
          "name": "stderr",
          "text": [
            "\n",
            "Extracting Dataset Version Zip to missing-bolt-detection-1 in yolov8:: 100%|██████████| 278/278 [00:00<00:00, 7789.65it/s]\n"
          ]
        }
      ]
    },
    {
      "cell_type": "markdown",
      "metadata": {
        "id": "YUjFBKKqXa-u"
      },
      "source": [
        "## Custom Training"
      ]
    },
    {
      "cell_type": "code",
      "execution_count": null,
      "metadata": {
        "colab": {
          "base_uri": "https://localhost:8080/"
        },
        "id": "D2YkphuiaE7_",
        "outputId": "197ef58b-d8ae-4660-8607-d8c2b01c505a"
      },
      "outputs": [
        {
          "output_type": "stream",
          "name": "stdout",
          "text": [
            "/content\n",
            "Ultralytics YOLOv8.0.20 🚀 Python-3.10.12 torch-2.3.0+cu121 CUDA:0 (Tesla T4, 15102MiB)\n",
            "\u001b[34m\u001b[1myolo/engine/trainer: \u001b[0mtask=detect, mode=train, model=yolov8n.yaml, data=https://universe.roboflow.com/kavyasruthi-loakx/missing-bolt-detection, epochs=100, patience=50, batch=16, imgsz=800, save=True, cache=False, device=, workers=8, project=None, name=None, exist_ok=False, pretrained=False, optimizer=SGD, verbose=True, seed=0, deterministic=True, single_cls=False, image_weights=False, rect=False, cos_lr=False, close_mosaic=10, resume=False, overlap_mask=True, mask_ratio=4, dropout=False, val=True, save_json=False, save_hybrid=False, conf=0.001, iou=0.7, max_det=300, half=False, dnn=False, plots=True, source=ultralytics/assets/, show=False, save_txt=False, save_conf=False, save_crop=False, hide_labels=False, hide_conf=False, vid_stride=1, line_thickness=3, visualize=False, augment=False, agnostic_nms=False, classes=None, retina_masks=False, boxes=True, format=torchscript, keras=False, optimize=False, int8=False, dynamic=False, simplify=False, opset=17, workspace=4, nms=False, lr0=0.01, lrf=0.01, momentum=0.937, weight_decay=0.001, warmup_epochs=3.0, warmup_momentum=0.8, warmup_bias_lr=0.1, box=7.5, cls=0.5, dfl=1.5, fl_gamma=0.0, label_smoothing=0.0, nbs=64, hsv_h=0.015, hsv_s=0.7, hsv_v=0.4, degrees=0.0, translate=0.1, scale=0.5, shear=0.0, perspective=0.0, flipud=0.0, fliplr=0.5, mosaic=1.0, mixup=0.0, copy_paste=0.0, cfg=None, v5loader=False, save_dir=runs/detect/train7\n",
            "Traceback (most recent call last):\n",
            "  File \"/usr/local/bin/yolo\", line 8, in <module>\n",
            "    sys.exit(entrypoint())\n",
            "  File \"/usr/local/lib/python3.10/dist-packages/ultralytics/yolo/cfg/__init__.py\", line 249, in entrypoint\n",
            "    getattr(model, mode)(verbose=True, **overrides)\n",
            "  File \"/usr/local/lib/python3.10/dist-packages/ultralytics/yolo/engine/model.py\", line 203, in train\n",
            "    self.trainer = self.TrainerClass(overrides=overrides)\n",
            "  File \"/usr/local/lib/python3.10/dist-packages/ultralytics/yolo/engine/trainer.py\", line 126, in __init__\n",
            "    raise FileNotFoundError(emojis(f\"Dataset '{self.args.data}' not found ❌\"))\n",
            "FileNotFoundError: Dataset 'https://universe.roboflow.com/kavyasruthi-loakx/missing-bolt-detection' not found ❌\n"
          ]
        }
      ],
      "source": [
        "%cd {HOME}\n",
        "!yolo task=detect mode=train model=yolov8n.pt data='https://universe.roboflow.com/kavyasruthi-loakx/missing-bolt-detection' epochs=100 imgsz=800 plots=True"
      ]
    },
    {
      "cell_type": "code",
      "source": [],
      "metadata": {
        "id": "emmM7FBQkrrP"
      },
      "execution_count": null,
      "outputs": []
    }
  ],
  "metadata": {
    "accelerator": "GPU",
    "colab": {
      "provenance": []
    },
    "gpuClass": "standard",
    "kernelspec": {
      "display_name": "Python 3",
      "name": "python3"
    },
    "language_info": {
      "name": "python"
    }
  },
  "nbformat": 4,
  "nbformat_minor": 0
}